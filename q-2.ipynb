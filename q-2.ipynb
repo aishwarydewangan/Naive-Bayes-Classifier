{
 "cells": [
  {
   "cell_type": "code",
   "execution_count": 1,
   "metadata": {},
   "outputs": [],
   "source": [
    "import pandas as pd\n",
    "import numpy as np\n",
    "import math\n",
    "from pprint import pprint"
   ]
  },
  {
   "cell_type": "code",
   "execution_count": 2,
   "metadata": {},
   "outputs": [],
   "source": [
    "df = pd.read_csv(\"Dataset/LoanDataset/data.csv\", header=None)\n",
    "df = df.iloc[1:, 1:]\n",
    "train = df.sample(frac=0.8, random_state=200)\n",
    "validation = df.drop(train.index)"
   ]
  },
  {
   "cell_type": "code",
   "execution_count": 3,
   "metadata": {},
   "outputs": [],
   "source": [
    "def mean(data):\n",
    "    if len(data) != 0:\n",
    "        return float(sum(data))/len(data)\n",
    "    return 0\n",
    "\n",
    "def std(data):\n",
    "    return np.std(data)\n",
    "\n",
    "def pdf(n, m, s):\n",
    "    sd = math.pow(float(s),2)\n",
    "    denominator = math.pow(2 * math.pi * sd, 0.5)\n",
    "    numerator = math.exp(-1*math.pow(float(n)-float(m), 2)/(2*sd))\n",
    "    return numerator/denominator\n",
    "\n",
    "def process_numerical(data, categories, label):\n",
    "    output = {}\n",
    "    for cat in categories:\n",
    "        output[cat] = {}\n",
    "        output[cat]['mean'] = {}\n",
    "        output[cat]['std'] = {}\n",
    "        for val in data[label].unique():\n",
    "            output[cat]['mean'][val] = mean(data[cat][data[label] == val])\n",
    "            output[cat]['std'][val] = std(data[cat][data[label] == val])\n",
    "    return output\n",
    "\n",
    "def process_categorical(data, categories, label):\n",
    "    output = {}\n",
    "    for cat in categories:\n",
    "        output[cat] = {}\n",
    "        for num in data[cat].unique():\n",
    "            output[cat][num] = {}\n",
    "            for val in data[label].unique():\n",
    "                numerator = len(data[cat][data[cat] == num][data[label] == val])\n",
    "                denominator = len(data[label][data[label] == val])\n",
    "                output[cat][num][val] = (float(numerator)/denominator)\n",
    "    return output\n",
    "\n",
    "def stats(predicted, actual):\n",
    "    tp, tn, fp, fn = 0, 0, 0, 0\n",
    "    for i in range(len(actual)):\n",
    "        if predicted[i] == actual[i] and predicted[i] == 1.0:\n",
    "            tp += 1\n",
    "        elif predicted[i] == actual[i] and predicted[i] == 0.0:\n",
    "            tn += 1\n",
    "        elif predicted[i] != actual[i] and predicted[i] == 1.0:\n",
    "            fp += 1\n",
    "        else:\n",
    "            fn += 1\n",
    "    \n",
    "    total = float(tp) + float(tn) + float(fn) + float(fp)\n",
    "    accuracy = (float(tp) + float(tn))/total\n",
    "    precision = (float(tp))/(float(tp) + float(fp))\n",
    "    recall = (float(tp))/(float(tp) + float(fn))\n",
    "    f1 = 2/((1/precision) + (1/recall))\n",
    "    print \"Accuracy: \", accuracy\n",
    "    print \"Precision: \", precision\n",
    "    print \"Recall: \", recall\n",
    "    print \"F1: \", f1\n",
    "            "
   ]
  },
  {
   "cell_type": "code",
   "execution_count": 4,
   "metadata": {},
   "outputs": [
    {
     "name": "stdout",
     "output_type": "stream",
     "text": [
      "Accuracy:  0.927777777778\n",
      "Precision:  0.59\n",
      "Recall:  0.710843373494\n",
      "F1:  0.644808743169\n"
     ]
    }
   ],
   "source": [
    "def nb(train, validation, label):\n",
    "    numerical = [1, 2, 3, 5, 6, 8]\n",
    "    categorical = [7, 10, 11, 12, 13]\n",
    "    processed_categorical = process_categorical(train, categorical, label)\n",
    "    processed_numerical = process_numerical(train, numerical, label)\n",
    "    \n",
    "#     print \"Categorical: \"\n",
    "#     pprint(processed_categorical)\n",
    "    \n",
    "#     print \"Numerical: \"\n",
    "#     pprint(processed_numerical)\n",
    "    \n",
    "    yes = float(len(train[train[label] == 1.0]))/len(train[label])\n",
    "    no = float(len(train[train[label] == 0.0]))/len(train[label])\n",
    "    \n",
    "    predicted = []\n",
    "    \n",
    "    for index, row in validation.iterrows():\n",
    "        prob_pos = yes\n",
    "        prob_neg = no\n",
    "        \n",
    "        for i in range(1, 13):\n",
    "            if i == 4 or i == label:\n",
    "                continue\n",
    "            if i in numerical:\n",
    "                prob_pos *= pdf(row[i], processed_numerical[i]['mean'][1.0], processed_numerical[i]['std'][1.0])\n",
    "                prob_neg *= pdf(row[i], processed_numerical[i]['mean'][0.0], processed_numerical[i]['std'][0.0])\n",
    "            else:\n",
    "                prob_pos *= processed_categorical[i][row[i]][1.0]\n",
    "                prob_neg *= processed_categorical[i][row[i]][0.0]\n",
    "                \n",
    "        if prob_pos > prob_neg:\n",
    "            predicted.append(1.0)\n",
    "        else:\n",
    "            predicted.append(0.0)\n",
    "            \n",
    "    actual = validation[label].tolist()\n",
    "    \n",
    "    stats(predicted, actual)\n",
    "    \n",
    "nb(train, validation, 9)"
   ]
  }
 ],
 "metadata": {
  "kernelspec": {
   "display_name": "Python 2",
   "language": "python",
   "name": "python2"
  },
  "language_info": {
   "codemirror_mode": {
    "name": "ipython",
    "version": 2
   },
   "file_extension": ".py",
   "mimetype": "text/x-python",
   "name": "python",
   "nbconvert_exporter": "python",
   "pygments_lexer": "ipython2",
   "version": "2.7.10"
  }
 },
 "nbformat": 4,
 "nbformat_minor": 2
}
